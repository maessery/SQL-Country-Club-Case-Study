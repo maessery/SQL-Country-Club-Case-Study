{
 "cells": [
  {
   "cell_type": "code",
   "execution_count": 11,
   "metadata": {},
   "outputs": [
    {
     "name": "stdout",
     "output_type": "stream",
     "text": [
      "2.6.0\n",
      "2. Query all tasks\n",
      "(0, 'Tennis Court 1', 5, 25, 10000, 200)\n",
      "(1, 'Tennis Court 2', 5, 25, 8000, 200)\n",
      "(2, 'Badminton Court', 0, 15.5, 4000, 50)\n",
      "(3, 'Table Tennis', 0, 5, 320, 10)\n",
      "(4, 'Massage Room 1', 9.9, 80, 4000, 3000)\n",
      "(5, 'Massage Room 2', 9.9, 80, 4000, 3000)\n",
      "(6, 'Squash Court', 3.5, 17.5, 5000, 80)\n",
      "(7, 'Snooker Table', 0, 5, 450, 15)\n",
      "(8, 'Pool Table', 0, 5, 400, 15)\n"
     ]
    }
   ],
   "source": [
    "import sqlite3\n",
    "from sqlite3 import Error\n",
    "\n",
    " \n",
    "def create_connection(db_file):\n",
    "    \"\"\" create a database connection to the SQLite database\n",
    "        specified by the db_file\n",
    "    :param db_file: database file\n",
    "    :return: Connection object or None\n",
    "    \"\"\"\n",
    "    conn = None\n",
    "    try:\n",
    "        conn = sqlite3.connect(db_file)\n",
    "        print(sqlite3.version)\n",
    "    except Error as e:\n",
    "        print(e)\n",
    " \n",
    "    return conn\n",
    "\n",
    " \n",
    "def select_all_tasks(conn):\n",
    "    \"\"\"\n",
    "    Query all rows in the tasks table\n",
    "    :param conn: the Connection object\n",
    "    :return:\n",
    "    \"\"\"\n",
    "    cur = conn.cursor()\n",
    "    \n",
    "    query1 = \"\"\"\n",
    "        SELECT *\n",
    "        FROM FACILITIES\n",
    "        \"\"\"\n",
    "    cur.execute(query1)\n",
    " \n",
    "    rows = cur.fetchall()\n",
    " \n",
    "    for row in rows:\n",
    "        print(row)\n",
    "\n",
    "\n",
    "def main():\n",
    "    database = \"sqlite_db_pythonsqlite.db\"\n",
    " \n",
    "    # create a database connection\n",
    "    conn = create_connection(database)\n",
    "    with conn: \n",
    "        print(\"2. Query all tasks\")\n",
    "        select_all_tasks(conn)\n",
    " \n",
    " \n",
    "if __name__ == '__main__':\n",
    "    main()"
   ]
  },
  {
   "cell_type": "code",
   "execution_count": null,
   "metadata": {},
   "outputs": [],
   "source": [
    "###/* Q10: Produce a list of facilities with a total revenue less than 1000.\n",
    "###The output of facility name and total revenue, sorted by revenue. Remember\n",
    "###that there's a different cost for guests and members! */"
   ]
  },
  {
   "cell_type": "code",
   "execution_count": 14,
   "metadata": {},
   "outputs": [
    {
     "name": "stdout",
     "output_type": "stream",
     "text": [
      "2.6.0\n",
      "2. Query all tasks\n",
      "('Table Tennis', 180)\n",
      "('Snooker Table', 240)\n",
      "('Pool Table', 270)\n"
     ]
    }
   ],
   "source": [
    "def select_all_tasks(conn):\n",
    "    \"\"\"\n",
    "    Query all rows in the tasks table\n",
    "    :param conn: the Connection object\n",
    "    :return:\n",
    "    \"\"\"\n",
    "    cur = conn.cursor()\n",
    "    \n",
    "    query1 = \"\"\"\n",
    "            SELECT f.name, SUM(CASE\n",
    "                                        WHEN memid=0 THEN guestcost * slots\n",
    "                                        ELSE membercost * slots\n",
    "                                        END) AS revenue\n",
    "                FROM BOOKINGS AS b\n",
    "                INNER JOIN FACILITIES as f\n",
    "                ON b.facid = f.facid\n",
    "                GROUP BY f.name\n",
    "                HAVING SUM(CASE\n",
    "                            WHEN memid=0 THEN guestcost * slots\n",
    "                            ELSE membercost * slots\n",
    "                            END) < 1000\n",
    "                ORDER BY revenue\n",
    "        \"\"\"\n",
    "    cur.execute(query1)\n",
    " \n",
    "    rows = cur.fetchall()\n",
    " \n",
    "    for row in rows:\n",
    "        print(row)\n",
    "\n",
    "if __name__ =='__main__': main()"
   ]
  },
  {
   "cell_type": "code",
   "execution_count": null,
   "metadata": {},
   "outputs": [],
   "source": [
    "###/* Q11: Produce a report of members and who recommended them in alphabetic surname,\n",
    "###firstname order */"
   ]
  },
  {
   "cell_type": "code",
   "execution_count": 28,
   "metadata": {},
   "outputs": [
    {
     "name": "stdout",
     "output_type": "stream",
     "text": [
      "2.6.0\n",
      "2. Query all tasks\n",
      "(15, 'Bader', 'Florence', 'Ponder Stibbons', '2012-08-10 17:52:03')\n",
      "(12, 'Baker', 'Anne', 'Ponder Stibbons', '2012-08-10 14:23:22')\n",
      "(16, 'Baker', 'Timothy', 'Jemima Farrell', '2012-08-15 10:34:25')\n",
      "(8, 'Boothe', 'Tim', 'Tim Rownam', '2012-07-25 16:02:35')\n",
      "(5, 'Butters', 'Gerald', 'Darren Smith', '2012-07-09 10:44:09')\n",
      "(22, 'Coplin', 'Joan', 'Timothy Baker', '2012-08-29 08:32:41')\n",
      "(36, 'Crumpet', 'Erica', 'Tracy Smith', '2012-09-22 08:36:38')\n",
      "(7, 'Dare', 'Nancy', 'Janice Joplette', '2012-07-25 08:59:12')\n",
      "(20, 'Genting', 'Matthew', 'Gerald Butters', '2012-08-19 14:55:55')\n",
      "(35, 'Hunt', 'John', 'Millicent Purview', '2012-09-19 11:32:45')\n",
      "(11, 'Jones', 'David', 'Janice Joplette', '2012-08-06 16:32:55')\n",
      "(26, 'Jones', 'Douglas', 'David Jones', '2012-09-02 18:43:05')\n",
      "(4, 'Joplette', 'Janice', 'Darren Smith', '2012-07-03 10:25:05')\n",
      "(21, 'Mackenzie', 'Anna', 'Darren Smith', '2012-08-26 09:32:05')\n",
      "(10, 'Owen', 'Charles', 'Darren Smith', '2012-08-03 19:42:37')\n",
      "(17, 'Pinker', 'David', 'Jemima Farrell', '2012-08-16 11:32:47')\n",
      "(30, 'Purview', 'Millicent', 'Tracy Smith', '2012-09-18 19:04:01')\n",
      "(27, 'Rumney', 'Henrietta', 'Matthew Genting', '2012-09-05 08:42:35')\n",
      "(24, 'Sarwin', 'Ramnaresh', 'Florence Bader', '2012-09-01 08:44:42')\n",
      "(14, 'Smith', 'Jack', 'Darren Smith', '2012-08-10 16:22:05')\n",
      "(9, 'Stibbons', 'Ponder', 'Burton Tracy', '2012-07-25 17:09:05')\n",
      "(29, 'Worthington-Smyth', 'Henry', 'Tracy Smith', '2012-09-17 12:27:15')\n"
     ]
    }
   ],
   "source": [
    "def select_all_tasks(conn):\n",
    "    \"\"\"\n",
    "    Query all rows in the tasks table\n",
    "    :param conn: the Connection object\n",
    "    :return:\n",
    "    \"\"\"\n",
    "    cur = conn.cursor()\n",
    "    \n",
    "    query1 = \"\"\"\n",
    "        SELECT m1.memid, m1.surname, m1.firstname, m2.recommender, m1.joindate\n",
    "        FROM MEMBERS as m1\n",
    "        INNER JOIN\n",
    "                (SELECT memid, (firstname || ' ' || surname) as recommender\n",
    "                 FROM MEMBERS \n",
    "                 WHERE memid>0) as m2\n",
    "        ON m1.recommendedby= m2.memid\n",
    "        ORDER BY m1.surname, m1.firstname\n",
    "        \"\"\"\n",
    "    cur.execute(query1)\n",
    " \n",
    "    rows = cur.fetchall()\n",
    " \n",
    "    for row in rows:\n",
    "        print(row)\n",
    "\n",
    "if __name__ =='__main__': main()"
   ]
  },
  {
   "cell_type": "code",
   "execution_count": null,
   "metadata": {},
   "outputs": [],
   "source": [
    "###/* Q12: Find the facilities with their usage by member, but not guests */"
   ]
  },
  {
   "cell_type": "code",
   "execution_count": 29,
   "metadata": {},
   "outputs": [
    {
     "name": "stdout",
     "output_type": "stream",
     "text": [
      "2.6.0\n",
      "2. Query all tasks\n",
      "('Badminton Court', 2172)\n",
      "('Massage Room 1', 1768)\n",
      "('Massage Room 2', 108)\n",
      "('Pool Table', 1712)\n",
      "('Snooker Table', 1720)\n",
      "('Squash Court', 836)\n",
      "('Table Tennis', 1588)\n",
      "('Tennis Court 1', 1914)\n",
      "('Tennis Court 2', 1764)\n"
     ]
    }
   ],
   "source": [
    "def select_all_tasks(conn):\n",
    "    \"\"\"\n",
    "    Query all rows in the tasks table\n",
    "    :param conn: the Connection object\n",
    "    :return:\n",
    "    \"\"\"\n",
    "    cur = conn.cursor()\n",
    "    \n",
    "    query1 = \"\"\"\n",
    "        SELECT f.name, SUM(b.slots *2) as hours_used\n",
    "        FROM BOOKINGS as b\n",
    "        LEFT JOIN FACILITIES as f \n",
    "        ON f.facid = b.facid\n",
    "        WHERE b.memid != 0\n",
    "        GROUP BY f.name\n",
    "        \"\"\"\n",
    "    cur.execute(query1)\n",
    " \n",
    "    rows = cur.fetchall()\n",
    " \n",
    "    for row in rows:\n",
    "        print(row)\n",
    "\n",
    "if __name__ =='__main__': main()"
   ]
  },
  {
   "cell_type": "code",
   "execution_count": null,
   "metadata": {},
   "outputs": [],
   "source": [
    "### /* Q13: Find the facilities usage by month, but not guests */"
   ]
  },
  {
   "cell_type": "code",
   "execution_count": 34,
   "metadata": {},
   "outputs": [
    {
     "name": "stdout",
     "output_type": "stream",
     "text": [
      "2.6.0\n",
      "2. Query all tasks\n",
      "('07', 'Badminton Court', 330)\n",
      "('07', 'Massage Room 1', 332)\n",
      "('07', 'Massage Room 2', 16)\n",
      "('07', 'Pool Table', 220)\n",
      "('07', 'Snooker Table', 280)\n",
      "('07', 'Squash Court', 100)\n",
      "('07', 'Table Tennis', 196)\n",
      "('07', 'Tennis Court 1', 402)\n",
      "('07', 'Tennis Court 2', 246)\n",
      "('08', 'Badminton Court', 828)\n",
      "('08', 'Massage Room 1', 632)\n",
      "('08', 'Massage Room 2', 36)\n",
      "('08', 'Pool Table', 606)\n",
      "('08', 'Snooker Table', 632)\n",
      "('08', 'Squash Court', 368)\n",
      "('08', 'Table Tennis', 592)\n",
      "('08', 'Tennis Court 1', 678)\n",
      "('08', 'Tennis Court 2', 690)\n",
      "('09', 'Badminton Court', 1014)\n",
      "('09', 'Massage Room 1', 804)\n",
      "('09', 'Massage Room 2', 56)\n",
      "('09', 'Pool Table', 886)\n",
      "('09', 'Snooker Table', 808)\n",
      "('09', 'Squash Court', 368)\n",
      "('09', 'Table Tennis', 800)\n",
      "('09', 'Tennis Court 1', 834)\n",
      "('09', 'Tennis Court 2', 828)\n"
     ]
    }
   ],
   "source": [
    "def select_all_tasks(conn):\n",
    "    \"\"\"\n",
    "    Query all rows in the tasks table\n",
    "    :param conn: the Connection object\n",
    "    :return:\n",
    "    \"\"\"\n",
    "    cur = conn.cursor()\n",
    "    \n",
    "    query1 = \"\"\"\n",
    "        SELECT strftime('%m', b.starttime ) AS month, f.name,  SUM(b.slots *2) as hours_used\n",
    "        FROM BOOKINGS as b\n",
    "        LEFT JOIN FACILITIES AS f\n",
    "        ON f.facid = b.facid\n",
    "        WHERE memid != 0\n",
    "        GROUP BY month, f.name\n",
    "        \n",
    "        \"\"\"\n",
    "    cur.execute(query1)\n",
    " \n",
    "    rows = cur.fetchall()\n",
    " \n",
    "    for row in rows:\n",
    "        print(row)\n",
    "\n",
    "if __name__ =='__main__': main()"
   ]
  }
 ],
 "metadata": {
  "kernelspec": {
   "display_name": "Python 3",
   "language": "python",
   "name": "python3"
  },
  "language_info": {
   "codemirror_mode": {
    "name": "ipython",
    "version": 3
   },
   "file_extension": ".py",
   "mimetype": "text/x-python",
   "name": "python",
   "nbconvert_exporter": "python",
   "pygments_lexer": "ipython3",
   "version": "3.6.1"
  }
 },
 "nbformat": 4,
 "nbformat_minor": 4
}
